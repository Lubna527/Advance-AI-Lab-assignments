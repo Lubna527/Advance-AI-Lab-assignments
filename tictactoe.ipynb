{
 "cells": [
  {
   "cell_type": "code",
   "execution_count": 9,
   "id": "d734172b",
   "metadata": {},
   "outputs": [],
   "source": [
    "import numpy as np\n",
    "import math"
   ]
  },
  {
   "cell_type": "code",
   "execution_count": 10,
   "id": "27a513ac",
   "metadata": {},
   "outputs": [],
   "source": [
    "board = [' ' for _ in range(9)]\n",
    "\n",
    "def print_board():\n",
    "    for i in range(3):\n",
    "        print(board[i*3:(i+1)*3])"
   ]
  },
  {
   "cell_type": "code",
   "execution_count": 11,
   "id": "43e198a5",
   "metadata": {},
   "outputs": [],
   "source": [
    "def find_blank(self):\n",
    "    for i in range(board):\n",
    "        if self.board[i]== ' ':  \n",
    "            return i\n",
    "        #else:\n",
    "            #return ' ' not in board\n",
    "    return None\n",
    "\n",
    "def is_full():\n",
    "    return ' ' not in board\n"
   ]
  },
  {
   "cell_type": "code",
   "execution_count": 13,
   "id": "dc188066",
   "metadata": {},
   "outputs": [],
   "source": [
    "def possible_moves():\n",
    "    #directions = [(-1, -1), (-1, 0), (-1, 1), (1, -1), (1, 0), (1, 1), (0, -1), (0, 0), (0, 1)] if 3* 3 matrix\n",
    "    winning_moves = [(1,2,3),(1,5,9),(1,4,7),(2,5,8),(3,5,7),(3,6,9),(4,5,6),(7,8,9)]        \n",
    "    return any(all(board[i] == 'X' or 'O' for i in pos) for pos in winning_moves)"
   ]
  },
  {
   "cell_type": "code",
   "execution_count": 15,
   "id": "8a9e7458",
   "metadata": {},
   "outputs": [],
   "source": [
    "def minimax():\n",
    "    if possible_moves('X'):\n",
    "        return 1\n",
    "    if possible_moves('O'):\n",
    "        return -1\n",
    "    \n",
    "    if is_maximizing:\n",
    "        best_score = -math.inf\n",
    "        for i in range(9):\n",
    "            if board[i] == ' ':\n",
    "                board[i] = 'O'\n",
    "                score = minimax(False)\n",
    "                board[i] = ' '\n",
    "                best_score = max(score, best_score)\n",
    "                print(\"best_score = \", best_score)\n",
    "        return best_score\n",
    "    else:\n",
    "        best_score = math.inf\n",
    "        for i in range(9):\n",
    "            if board[i] == ' ':\n",
    "                board[i] = 'X'\n",
    "                score = minimax(True)\n",
    "                board[i] = ' '\n",
    "                best_score = min(score, best_score)\n",
    "        return best_score"
   ]
  },
  {
   "cell_type": "code",
   "execution_count": 16,
   "id": "e7c0b072",
   "metadata": {},
   "outputs": [],
   "source": [
    "def best_move():\n",
    "    best_score = -math.inf\n",
    "    move = 0\n",
    "    for i in range(9):\n",
    "        if board[i] == ' ':\n",
    "            board[i] = 'O'\n",
    "            score = minimax(False)\n",
    "            board[i] = ' '\n",
    "            if score > best_score:\n",
    "                best_score = score\n",
    "                move = i\n",
    "    return move\n"
   ]
  }
 ],
 "metadata": {
  "kernelspec": {
   "display_name": "Python 3 (ipykernel)",
   "language": "python",
   "name": "python3"
  },
  "language_info": {
   "codemirror_mode": {
    "name": "ipython",
    "version": 3
   },
   "file_extension": ".py",
   "mimetype": "text/x-python",
   "name": "python",
   "nbconvert_exporter": "python",
   "pygments_lexer": "ipython3",
   "version": "3.9.13"
  }
 },
 "nbformat": 4,
 "nbformat_minor": 5
}
