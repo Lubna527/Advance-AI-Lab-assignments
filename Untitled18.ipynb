{
 "cells": [
  {
   "cell_type": "code",
   "execution_count": 3,
   "id": "b69cd233",
   "metadata": {},
   "outputs": [
    {
     "name": "stdout",
     "output_type": "stream",
     "text": [
      "Conversations saved to C:\\Users\\lubna\\Downloads\\output.jsonl.\n"
     ]
    }
   ],
   "source": [
    "import json\n",
    "\n",
    "# Specify the input and output file names\n",
    "input_file = \"C:\\\\Users\\\\lubna\\\\Downloads\\\\dialogs.txt\"\n",
    "output_file = \"C:\\\\Users\\\\lubna\\\\Downloads\\\\output.jsonl\"\n",
    "\n",
    "# Read the dialog pairs from the input file\n",
    "with open(input_file, 'r', encoding='utf-8') as file:\n",
    "    lines = file.readlines()\n",
    "\n",
    "conversations = []\n",
    "\n",
    "# Process each line to create the structured format\n",
    "for line in lines:\n",
    "    # Split the line into user and chatbot messages\n",
    "    user_message, chatbot_message = line.strip().split('\\t')\n",
    "    \n",
    "    # Create the messages structure\n",
    "    conversation = {\n",
    "        \"messages\": [\n",
    "            {\"role\": \"User\", \"content\": user_message.strip()},\n",
    "            {\"role\": \"Chatbot\", \"content\": chatbot_message.strip()}\n",
    "        ]\n",
    "    }\n",
    "    \n",
    "    conversations.append(conversation)\n",
    "\n",
    "# Function to save conversations to a .jsonl file\n",
    "def save_conversations_to_jsonl(conversations, output_file):\n",
    "    with open(output_file, 'w', encoding='utf-8') as jsonl_file:\n",
    "        for conversation in conversations:\n",
    "            jsonl_file.write(json.dumps(conversation) + '\\n')\n",
    "\n",
    "# Save the conversations to the .jsonl file\n",
    "save_conversations_to_jsonl(conversations, output_file)\n",
    "\n",
    "print(f\"Conversations saved to {output_file}.\")\n",
    "\n"
   ]
  },
  {
   "cell_type": "code",
   "execution_count": null,
   "id": "f1e731c1",
   "metadata": {},
   "outputs": [],
   "source": []
  }
 ],
 "metadata": {
  "kernelspec": {
   "display_name": "Python 3 (ipykernel)",
   "language": "python",
   "name": "python3"
  },
  "language_info": {
   "codemirror_mode": {
    "name": "ipython",
    "version": 3
   },
   "file_extension": ".py",
   "mimetype": "text/x-python",
   "name": "python",
   "nbconvert_exporter": "python",
   "pygments_lexer": "ipython3",
   "version": "3.9.13"
  }
 },
 "nbformat": 4,
 "nbformat_minor": 5
}
