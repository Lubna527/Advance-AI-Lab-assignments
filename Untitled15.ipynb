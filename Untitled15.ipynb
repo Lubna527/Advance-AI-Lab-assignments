{
 "cells": [
  {
   "cell_type": "code",
   "execution_count": null,
   "id": "87f4bab6",
   "metadata": {},
   "outputs": [],
   "source": [
    "#For SVM using RBF kernel the syntax is as follows:\n",
    "classifier_b = svm.SVC(kernel='rbf',class_weight={0:0.60, 1:0.40})\n",
    "classifier_b.fit(X_train, y_train)\n",
    "prediction_SVM_b_all = classifier_b.predict(X_test_all)\n",
    "cm = confusion_matrix(y_test_all, prediction_SVM_b_all)\n",
    "plot_confusion_matrix(cm,class_names)"
   ]
  },
  {
   "cell_type": "code",
   "execution_count": null,
   "id": "b72c88c9",
   "metadata": {},
   "outputs": [],
   "source": [
    "#For RNN the syntax is as follows:\n",
    "model = Sequential()\n",
    "model.add(LSTM(20, input_shape=X_train.shape[1:], kernel_initializer='lecun_uniform', \n",
    "               activation='relu', kernel_regularizer=regularizers.l1(0.1), \n",
    "               recurrent_regularizer=regularizers.l1(0.01), bias_regularizer=None, \n",
    "               activity_regularizer=None, dropout=0.2, recurrent_dropout=0.2))#, return_sequences=True))\n",
    "#model.add(LSTM(12, activation='relu', return_sequences=True))\n",
    "#model.add(LSTM(8, activation='relu'))\n",
    "model.add(Dense(1, kernel_initializer='lecun_uniform', activation='sigmoid'))\n",
    "\n",
    "model.compile(loss='binary_crossentropy', optimizer='adam', metrics=['accuracy']) #optimizer='rmsprop'"
   ]
  },
  {
   "cell_type": "code",
   "execution_count": null,
   "id": "b3338e39",
   "metadata": {},
   "outputs": [],
   "source": [
    "#For MLP the syntax is as follows:\n",
    "model = MLPClassifier(activation='logistic',hidden_layer_sizes=(16,),solver='adam',verbose=True)\n",
    "model.fit(scaled_x_train,scaled_y_train)"
   ]
  }
 ],
 "metadata": {
  "kernelspec": {
   "display_name": "Python 3 (ipykernel)",
   "language": "python",
   "name": "python3"
  },
  "language_info": {
   "codemirror_mode": {
    "name": "ipython",
    "version": 3
   },
   "file_extension": ".py",
   "mimetype": "text/x-python",
   "name": "python",
   "nbconvert_exporter": "python",
   "pygments_lexer": "ipython3",
   "version": "3.9.13"
  }
 },
 "nbformat": 4,
 "nbformat_minor": 5
}
