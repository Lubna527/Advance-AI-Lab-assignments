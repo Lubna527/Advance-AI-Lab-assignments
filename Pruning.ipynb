{
 "cells": [
  {
   "cell_type": "code",
   "execution_count": 8,
   "id": "4aec6d8e",
   "metadata": {},
   "outputs": [
    {
     "name": "stdout",
     "output_type": "stream",
     "text": [
      "Step-by-step execution of Alpha-Beta Pruning:\n",
      "\n",
      "Max Node [0] (alpha=-inf, beta=inf)\n",
      "   Min Node [0] (alpha=-inf, beta=inf)\n",
      "      Max Node [0] (alpha=-inf, beta=inf)\n",
      "         Min Node [0] (alpha=-inf, beta=inf)\n",
      "         Min Node [0] - Value: 3 (alpha=-inf, beta=inf)\n",
      "         Min Node [1] (alpha=3, beta=inf)\n",
      "         Min Node [1] - Value: 5 (alpha=3, beta=inf)\n",
      "      Max Node [0] - Value: 5 (alpha=5, beta=inf)\n",
      "      Max Node [1] (alpha=-inf, beta=5)\n",
      "         Min Node [2] (alpha=-inf, beta=5)\n",
      "         Min Node [2] - Value: 6 (alpha=-inf, beta=5)\n",
      "      Max Node [1] - Pruned (alpha=6, beta=5)\n",
      "      Max Node [1] - Value: 6 (alpha=6, beta=5)\n",
      "   Min Node [0] - Value: 5 (alpha=-inf, beta=5)\n",
      "   Min Node [1] (alpha=5, beta=inf)\n",
      "      Max Node [2] (alpha=5, beta=inf)\n",
      "         Min Node [4] (alpha=5, beta=inf)\n",
      "         Min Node [4] - Value: 1 (alpha=5, beta=inf)\n",
      "         Min Node [5] (alpha=5, beta=inf)\n",
      "         Min Node [5] - Value: 2 (alpha=5, beta=inf)\n",
      "      Max Node [2] - Value: 2 (alpha=5, beta=inf)\n",
      "   Min Node [1] - Pruned (alpha=5, beta=2)\n",
      "   Min Node [1] - Value: 2 (alpha=5, beta=2)\n",
      "Max Node [0] - Value: 5 (alpha=5, beta=inf)\n",
      "\n",
      "The optimal value is: 5\n"
     ]
    }
   ]
